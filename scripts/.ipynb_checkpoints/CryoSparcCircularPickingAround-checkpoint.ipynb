{
 "cells": [
  {
   "cell_type": "code",
   "execution_count": 1,
   "metadata": {},
   "outputs": [
    {
     "name": "stdout",
     "output_type": "stream",
     "text": [
      "Analysis.ipynb  \u001b[0m\u001b[38;5;27mJ14\u001b[0m/  P7_J33_particles_exported.cs\r\n",
      "\u001b[38;5;27mJ12\u001b[0m/            \u001b[38;5;27mJ15\u001b[0m/  P7_J33_particles_exported.csg\r\n",
      "\u001b[38;5;27mJ13\u001b[0m/            \u001b[38;5;27mJ33\u001b[0m/  P7_J33_particles_exported_old.cs\r\n"
     ]
    }
   ],
   "source": [
    "ls"
   ]
  },
  {
   "cell_type": "code",
   "execution_count": 2,
   "metadata": {},
   "outputs": [],
   "source": [
    "import numpy as np\n",
    "import copy"
   ]
  },
  {
   "cell_type": "code",
   "execution_count": 3,
   "metadata": {},
   "outputs": [],
   "source": [
    "a = np.load('P7_J33_particles_exported_old.cs')"
   ]
  },
  {
   "cell_type": "code",
   "execution_count": 25,
   "metadata": {},
   "outputs": [],
   "source": [
    "angle = 45#degrees\n",
    "radius = 225 #pix\n",
    "\n",
    "all_entries = []\n",
    "for entry in a:\n",
    "    for angle in np.arange(0,360,12):\n",
    "        pixelsize = entry['blob/psize_A']\n",
    "        shape = entry['location/micrograph_shape']\n",
    "        fracx = entry['location/center_x_frac']\n",
    "        fracy = entry['location/center_y_frac']\n",
    "        y,x = shape * [fracy,fracx]\n",
    "        angle_rad = np.radians(angle)\n",
    "        y_adj = np.cos(angle_rad)*radius + x\n",
    "        x_adj = np.sin(angle_rad)*radius + y\n",
    "        y_adj_frac, x_adj_frac = np.array([y_adj,x_adj]) / shape\n",
    "        new_entry = copy.deepcopy(entry)\n",
    "        new_entry['location/center_y_frac'] = y_adj_frac\n",
    "        new_entry['location/center_x_frac'] = x_adj_frac\n",
    "        all_entries.append(new_entry)\n",
    "    \n",
    "all_entries = np.array(all_entries)\n",
    "uids = all_entries['uid']\n",
    "all_entries['uid'] = np.random.randint(1000000000000000,10000000000000000, len(uids))\n",
    "\n",
    "np.save('P7_J33_particles_exported.cs', all_entries)\n"
   ]
  },
  {
   "cell_type": "code",
   "execution_count": null,
   "metadata": {},
   "outputs": [],
   "source": []
  }
 ],
 "metadata": {
  "kernelspec": {
   "display_name": "Python 3",
   "language": "python",
   "name": "python3"
  },
  "language_info": {
   "codemirror_mode": {
    "name": "ipython",
    "version": 3
   },
   "file_extension": ".py",
   "mimetype": "text/x-python",
   "name": "python",
   "nbconvert_exporter": "python",
   "pygments_lexer": "ipython3",
   "version": "3.7.6"
  }
 },
 "nbformat": 4,
 "nbformat_minor": 4
}
